{
 "cells": [
  {
   "cell_type": "markdown",
   "id": "fb20159b",
   "metadata": {},
   "source": [
    "y=ax+b"
   ]
  },
  {
   "cell_type": "code",
   "execution_count": 1,
   "id": "eb9741f1",
   "metadata": {},
   "outputs": [],
   "source": [
    "import numpy as np\n",
    "import matplotlib.pyplot as plt\n",
    "from sklearn.model_selection import train_test_split\n",
    "%matplotlib inline"
   ]
  },
  {
   "cell_type": "code",
   "execution_count": 2,
   "id": "af36eced",
   "metadata": {},
   "outputs": [],
   "source": [
    "# We set up a random number generator: rng (seeded with a number). \n",
    "# Using a seed means we can generate the same sequence of pseudorandom numbers, and so we can check results easily.\n",
    "rng = np.random.default_rng(20) \n",
    "\n",
    "# a and b are coefficients for the line\n",
    "a = 3\n",
    "b = -4\n",
    "\n",
    "# np.linspace(start,stop,number)\n",
    "X = np.linspace(0, 20, 150) \n",
    "\n",
    "# Create data Y using the equation for a line\n",
    "Y = a*X + b\n",
    "\n",
    "# Adds Gaussian noise with mean 0 and standard deviation 5 to the data\n",
    "Y = Y + 5*rng.standard_normal(len(Y))"
   ]
  },
  {
   "cell_type": "code",
   "execution_count": 16,
   "id": "b5469671",
   "metadata": {},
   "outputs": [
    {
     "data": {
      "text/plain": [
       "Text(0, 0.5, 'y')"
      ]
     },
     "execution_count": 16,
     "metadata": {},
     "output_type": "execute_result"
    },
    {
     "data": {
      "image/png": "[encoded data removed]",
      "text/plain": [
       "<Figure size 432x288 with 1 Axes>"
      ]
     },
     "metadata": {
      "needs_background": "light"
     },
     "output_type": "display_data"
    }
   ],
   "source": [
    "fig, ax = plt.subplots() # This generates us a named figure and axes\n",
    "ax.scatter(X, Y, label = 'Data') # We generate a scatterplot of the data on the axes.\n",
    "plt.xlabel('x')\n",
    "plt.ylabel('y')"
   ]
  },
  {
   "cell_type": "markdown",
   "id": "e62dd663",
   "metadata": {},
   "source": [
    "Split the data X and targets Y into training and testing sets using the function train_test_split. Set the proportion of the dataset to use as test data to 0.1."
   ]
  },
  {
   "cell_type": "code",
   "execution_count": 4,
   "id": "eaaa325d",
   "metadata": {},
   "outputs": [],
   "source": [
    "Xtrain, Xtest, ytrain, ytest = train_test_split(X, Y, test_size=0.1)"
   ]
  },
  {
   "cell_type": "code",
   "execution_count": 5,
   "id": "76ac326c",
   "metadata": {},
   "outputs": [],
   "source": [
    "from sklearn.linear_model import LinearRegression\n",
    "regr = LinearRegression()\n",
    "#build regression#"
   ]
  },
  {
   "cell_type": "code",
   "execution_count": 6,
   "id": "cb72c260",
   "metadata": {},
   "outputs": [],
   "source": [
    "# This reshapes the data to have 1 column and however many rows make sense for the datasklearn    \n",
    "# 要求输入的特征必须是二维数组的类型，但我们目前特征只有1个，所以需要用reshap(-1,1) 转换成二维数组\n",
    "Xtrain = Xtrain.reshape(-1, 1)"
   ]
  },
  {
   "cell_type": "code",
   "execution_count": 7,
   "id": "5138293a",
   "metadata": {},
   "outputs": [
    {
     "data": {
      "text/plain": [
       "LinearRegression()"
      ]
     },
     "execution_count": 7,
     "metadata": {},
     "output_type": "execute_result"
    }
   ],
   "source": [
    "regr.fit(Xtrain, ytrain) \n",
    "# to train the model"
   ]
  },
  {
   "cell_type": "code",
   "execution_count": 8,
   "id": "e3f6c681",
   "metadata": {},
   "outputs": [
    {
     "name": "stdout",
     "output_type": "stream",
     "text": [
      "[3.03659828]\n",
      "-5.088585026441944\n"
     ]
    }
   ],
   "source": [
    "# see coeff. and intercept\n",
    "print(regr.coef_)\n",
    "print(regr.intercept_)"
   ]
  },
  {
   "cell_type": "code",
   "execution_count": 9,
   "id": "7b44c3c6",
   "metadata": {},
   "outputs": [
    {
     "data": {
      "image/png": "[encoded data removed]",
      "text/plain": [
       "<Figure size 432x288 with 1 Axes>"
      ]
     },
     "execution_count": 9,
     "metadata": {},
     "output_type": "execute_result"
    }
   ],
   "source": [
    "x = np.array([0, 20])\n",
    "ax.plot(x, regr.coef_[0]*x + regr.intercept_, 'g', label='Fitted model')\n",
    "fig"
   ]
  },
  {
   "cell_type": "code",
   "execution_count": 10,
   "id": "1676ea6d",
   "metadata": {},
   "outputs": [],
   "source": [
    "# get the predicted y values\n",
    "Xtest = Xtest.reshape(-1, 1)\n",
    "ypred = regr.predict(Xtest)"
   ]
  },
  {
   "cell_type": "code",
   "execution_count": 11,
   "id": "194782d8",
   "metadata": {},
   "outputs": [],
   "source": [
    "# calculation: mean squared error\n",
    "def MSE(y, pred):\n",
    "    dif = y - pred\n",
    "    sse = (dif**2).sum()\n",
    "    mse = sse/len(dif)\n",
    "    return mse"
   ]
  },
  {
   "cell_type": "code",
   "execution_count": 12,
   "id": "276bdbf9",
   "metadata": {},
   "outputs": [
    {
     "data": {
      "text/plain": [
       "True"
      ]
     },
     "execution_count": 12,
     "metadata": {},
     "output_type": "execute_result"
    }
   ],
   "source": [
    "# check\n",
    "from sklearn.metrics import mean_squared_error\n",
    "MSE(ytest, ypred) == mean_squared_error(ytest, ypred)"
   ]
  },
  {
   "cell_type": "code",
   "execution_count": 13,
   "id": "2cf87bcb",
   "metadata": {},
   "outputs": [],
   "source": [
    "# calculating R2\n",
    "def R2(y, pred):\n",
    "    sse = ((y-pred)**2).sum()\n",
    "    d = ((y - np.mean(y))**2).sum()\n",
    "    return 1 - sse/d"
   ]
  },
  {
   "cell_type": "code",
   "execution_count": 14,
   "id": "bcad10ca",
   "metadata": {},
   "outputs": [
    {
     "data": {
      "text/plain": [
       "True"
      ]
     },
     "execution_count": 14,
     "metadata": {},
     "output_type": "execute_result"
    }
   ],
   "source": [
    "# check\n",
    "from sklearn.metrics import r2_score\n",
    "R2(ytest, ypred) == r2_score(ytest, ypred)"
   ]
  }
 ],
 "metadata": {
  "kernelspec": {
   "display_name": "Python 3 (ipykernel)",
   "language": "python",
   "name": "python3"
  },
  "language_info": {
   "codemirror_mode": {
    "name": "ipython",
    "version": 3
   },
   "file_extension": ".py",
   "mimetype": "text/x-python",
   "name": "python",
   "nbconvert_exporter": "python",
   "pygments_lexer": "ipython3",
   "version": "3.9.12"
  }
 },
 "nbformat": 4,
 "nbformat_minor": 5
}
